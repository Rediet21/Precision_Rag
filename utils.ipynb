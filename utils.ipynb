{
 "cells": [
  {
   "cell_type": "code",
   "execution_count": null,
   "id": "458e0aa7-87d8-4d95-88a5-98c1a5e7664c",
   "metadata": {},
   "outputs": [],
   "source": [
    "import os\n",
    "\n",
    "import numpy as np\n",
    "import openai\n",
    "import tiktoken\n",
    "import torch\n",
    "import torch.nn.functional as F\n",
    "\n",
    "def get_client(llm):\n",
    "    if llm.startswith(\"gpt\"):\n",
    "        base_url = os.environ[\"OPENAI_API_BASE\"]\n",
    "        api_key = os.environ[\"OPENAI_API_KEY\"]\n",
    "    else:\n",
    "        base_url = os.environ[\"ANYSCALE_API_BASE\"]\n",
    "        api_key = os.environ[\"ANYSCALE_API_KEY\"]\n",
    "    client = openai.OpenAI(base_url=base_url, api_key=api_key)\n",
    "    return client\n"
   ]
  }
 ],
 "metadata": {
  "kernelspec": {
   "display_name": "week6_env",
   "language": "python",
   "name": "week6_env"
  },
  "language_info": {
   "codemirror_mode": {
    "name": "ipython",
    "version": 3
   },
   "file_extension": ".py",
   "mimetype": "text/x-python",
   "name": "python",
   "nbconvert_exporter": "python",
   "pygments_lexer": "ipython3",
   "version": "3.11.7"
  }
 },
 "nbformat": 4,
 "nbformat_minor": 5
}
