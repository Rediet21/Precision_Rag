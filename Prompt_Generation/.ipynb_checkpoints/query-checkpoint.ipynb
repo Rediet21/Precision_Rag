{
 "cells": [
  {
   "cell_type": "code",
   "execution_count": 3,
   "id": "0532b9e7-cb62-4fbd-aad3-9e16c4feb6c0",
   "metadata": {},
   "outputs": [
    {
     "data": {
      "text/plain": [
       "True"
      ]
     },
     "execution_count": 3,
     "metadata": {},
     "output_type": "execute_result"
    }
   ],
   "source": [
    "from langchain.embeddings.openai import OpenAIEmbeddings\n",
    "from dotenv import load_dotenv\n",
    "import os\n",
    "load_dotenv()\n"
   ]
  },
  {
   "cell_type": "code",
   "execution_count": 4,
   "id": "7015cfc8-e394-46fe-8e5c-82a59b2437ba",
   "metadata": {},
   "outputs": [],
   "source": [
    "embed_model = OpenAIEmbeddings(model=\"text-embedding-ada-002\")"
   ]
  },
  {
   "cell_type": "code",
   "execution_count": 8,
   "id": "f641795c-6366-43fb-ae9e-13163c1d7d55",
   "metadata": {},
   "outputs": [
    {
     "data": {
      "text/plain": [
       "(1, 1536)"
      ]
     },
     "execution_count": 8,
     "metadata": {},
     "output_type": "execute_result"
    }
   ],
   "source": [
    "query = ['Put your prompt here']\n",
    "res = embed_model.embed_documents(query)\n",
    "len(res), len(res[0])"
   ]
  },
  {
   "cell_type": "code",
   "execution_count": null,
   "id": "cf94c8db-78d2-4f37-8dd1-0a3b05f163c0",
   "metadata": {},
   "outputs": [],
   "source": [
    "# Get the top k relevant chunks using cosine distance\n",
    "num_chunks = 5\n",
    "with psycopg.connect(os.environ[\"DB_CONNECTION_STRING\"]) as conn:\n",
    "    register_vector(conn)\n",
    "    with conn.cursor() as cur:\n",
    "        cur.execute(\"SELECT * FROM document ORDER BY embedding <-> %s LIMIT %s\", (res, num_chunks))\n",
    "        rows = cur.fetchall()\n",
    "        context = [{\"question\": row[1]} for row in rows]\n",
    "        sources = [row[2] for row in rows]\n",
    "        \n",
    "def semantic_search(query, embedding_model, k):\n",
    "    embedding = np.array(embedding_model.embed_query(query))\n",
    "    with psycopg.connect(os.environ[\"DB_CONNECTION_STRING\"]) as conn:\n",
    "        register_vector(conn)\n",
    "        with conn.cursor() as cur:\n",
    "            cur.execute(\"SELECT * FROM document ORDER BY embedding <=> %s LIMIT %s\", (embedding, k),)\n",
    "            rows = cur.fetchall()\n",
    "            semantic_context = [{\"id\": row[0], \"question\": row[1], \"solution\": row[2]} for row in rows]\n",
    "    return semantic_context\n"
   ]
  },
  {
   "cell_type": "code",
   "execution_count": 9,
   "id": "7a146a70-8ef1-4d78-bf5d-378c760c5f43",
   "metadata": {},
   "outputs": [],
   "source": []
  },
  {
   "cell_type": "code",
   "execution_count": null,
   "id": "3c6a12b9-77c6-427e-b1c0-5d9e319479e1",
   "metadata": {},
   "outputs": [],
   "source": []
  }
 ],
 "metadata": {
  "kernelspec": {
   "display_name": "Python 3 (ipykernel)",
   "language": "python",
   "name": "python3"
  },
  "language_info": {
   "codemirror_mode": {
    "name": "ipython",
    "version": 3
   },
   "file_extension": ".py",
   "mimetype": "text/x-python",
   "name": "python",
   "nbconvert_exporter": "python",
   "pygments_lexer": "ipython3",
   "version": "3.11.7"
  }
 },
 "nbformat": 4,
 "nbformat_minor": 5
}
