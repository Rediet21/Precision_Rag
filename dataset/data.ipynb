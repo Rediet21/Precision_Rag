{
 "cells": [
  {
   "cell_type": "code",
   "execution_count": 7,
   "id": "3d2461ea-c58c-4edf-af4b-f127f620b9f2",
   "metadata": {},
   "outputs": [
    {
     "data": {
      "text/plain": [
       "Dataset({\n",
       "    features: ['language', 'constraints', 'solution_explanation', 'solution', 'level', 'slug', 'examples', 'buggy_code', 'bug_explanation', 'release_time', 'subtype', 'category', 'question'],\n",
       "    num_rows: 4253\n",
       "})"
      ]
     },
     "execution_count": 7,
     "metadata": {},
     "output_type": "execute_result"
    }
   ],
   "source": [
    "from datasets import load_dataset\n",
    "import pandas as pd\n",
    " \n",
    "\n",
    "dataset = load_dataset(\n",
    "    \"Rtian/DebugBench\",\n",
    "    split=\"test\"\n",
    ")\n",
    "\n",
    "dataset"
   ]
  },
  {
   "cell_type": "code",
   "execution_count": 18,
   "id": "94a34495-f0ac-4e7b-b8bb-b26dfb0a3f12",
   "metadata": {},
   "outputs": [
    {
     "name": "stdout",
     "output_type": "stream",
     "text": [
      "4 chunks\n",
      "[Document(page_content='An image is represented by an m x n integer grid image where image[i][j] represents the pixel value of the image.\\nYou are also given three integers sr, sc, and color. You should perform a flood fill on the image starting from the pixel image[sr][sc].', metadata={'solution': \"class Solution {\\npublic:\\n    void bfs(int prevcolor,int row,int col,int color,vector<vector<int>>&visited,vector<vector<int>>&image)\\n    {\\n        // it'll ease the work\\n        queue<pair<int,int>> q;\\n        q.push({row,col});\\n        visited[row][col]=1;\\n\\n        while(!q.empty())\\n        {\\n            row = q.front().first;\\n            col = q.front().second;\\n            q.pop();\\n\\n            // if img is of the starting color.\\n            if(image[row][col]==prevcolor) image[row][col]=color;\\n\\n            // up\\n            if(row-1>=0 && !visited[row-1][col] && image[row-1][col]==prevcolor) q.push({row-1,col}),visited[row-1][col]=1, image[row-1][col]=color;\\n\\n            // right\\n            if(col+1<image[0].size() &&  !visited[row][col+1] && image[row][col+1]==prevcolor) q.push({row,col+1}),visited[row][col+1]=1, image[row][col+1]=color;\\n\\n            //down\\n            if(row+1<image.size() && !visited[row+1][col] && image[row+1][col]==prevcolor) q.push({row+1,col}),visited[row+1][col]=1, image[row+1][col]=color;\\n\\n            // left\\n            if(col-1>=0 && !visited[row][col-1] && image[row][col-1]==prevcolor) q.push({row,col-1}),visited[row][col-1]=1, image[row][col-1]=color;\\n        }\\n    }\\n    vector<vector<int>> floodFill(vector<vector<int>>& image, int sr, int sc, int color) {\\n          int prevcolor = image[sr][sc];\\n\\n          // visiting array.\\n          vector<vector<int>> visited(image.size(),vector<int>(image[0].size(),0));\\n\\n          bfs(prevcolor,sr,sc,color,visited,image);\\n\\n          return image;\\n    }\\n};\"}), Document(page_content='To perform a flood fill, consider the starting pixel, plus any pixels connected 4-directionally to the starting pixel of the same color as the starting pixel, plus any pixels connected 4-directionally to those pixels (also with the same color), and so on. Replace the color of all of the', metadata={'solution': \"class Solution {\\npublic:\\n    void bfs(int prevcolor,int row,int col,int color,vector<vector<int>>&visited,vector<vector<int>>&image)\\n    {\\n        // it'll ease the work\\n        queue<pair<int,int>> q;\\n        q.push({row,col});\\n        visited[row][col]=1;\\n\\n        while(!q.empty())\\n        {\\n            row = q.front().first;\\n            col = q.front().second;\\n            q.pop();\\n\\n            // if img is of the starting color.\\n            if(image[row][col]==prevcolor) image[row][col]=color;\\n\\n            // up\\n            if(row-1>=0 && !visited[row-1][col] && image[row-1][col]==prevcolor) q.push({row-1,col}),visited[row-1][col]=1, image[row-1][col]=color;\\n\\n            // right\\n            if(col+1<image[0].size() &&  !visited[row][col+1] && image[row][col+1]==prevcolor) q.push({row,col+1}),visited[row][col+1]=1, image[row][col+1]=color;\\n\\n            //down\\n            if(row+1<image.size() && !visited[row+1][col] && image[row+1][col]==prevcolor) q.push({row+1,col}),visited[row+1][col]=1, image[row+1][col]=color;\\n\\n            // left\\n            if(col-1>=0 && !visited[row][col-1] && image[row][col-1]==prevcolor) q.push({row,col-1}),visited[row][col-1]=1, image[row][col-1]=color;\\n        }\\n    }\\n    vector<vector<int>> floodFill(vector<vector<int>>& image, int sr, int sc, int color) {\\n          int prevcolor = image[sr][sc];\\n\\n          // visiting array.\\n          vector<vector<int>> visited(image.size(),vector<int>(image[0].size(),0));\\n\\n          bfs(prevcolor,sr,sc,color,visited,image);\\n\\n          return image;\\n    }\\n};\"}), Document(page_content='and so on. Replace the color of all of the aforementioned pixels with color.', metadata={'solution': \"class Solution {\\npublic:\\n    void bfs(int prevcolor,int row,int col,int color,vector<vector<int>>&visited,vector<vector<int>>&image)\\n    {\\n        // it'll ease the work\\n        queue<pair<int,int>> q;\\n        q.push({row,col});\\n        visited[row][col]=1;\\n\\n        while(!q.empty())\\n        {\\n            row = q.front().first;\\n            col = q.front().second;\\n            q.pop();\\n\\n            // if img is of the starting color.\\n            if(image[row][col]==prevcolor) image[row][col]=color;\\n\\n            // up\\n            if(row-1>=0 && !visited[row-1][col] && image[row-1][col]==prevcolor) q.push({row-1,col}),visited[row-1][col]=1, image[row-1][col]=color;\\n\\n            // right\\n            if(col+1<image[0].size() &&  !visited[row][col+1] && image[row][col+1]==prevcolor) q.push({row,col+1}),visited[row][col+1]=1, image[row][col+1]=color;\\n\\n            //down\\n            if(row+1<image.size() && !visited[row+1][col] && image[row+1][col]==prevcolor) q.push({row+1,col}),visited[row+1][col]=1, image[row+1][col]=color;\\n\\n            // left\\n            if(col-1>=0 && !visited[row][col-1] && image[row][col-1]==prevcolor) q.push({row,col-1}),visited[row][col-1]=1, image[row][col-1]=color;\\n        }\\n    }\\n    vector<vector<int>> floodFill(vector<vector<int>>& image, int sr, int sc, int color) {\\n          int prevcolor = image[sr][sc];\\n\\n          // visiting array.\\n          vector<vector<int>> visited(image.size(),vector<int>(image[0].size(),0));\\n\\n          bfs(prevcolor,sr,sc,color,visited,image);\\n\\n          return image;\\n    }\\n};\"}), Document(page_content='Return the modified image after performing the flood fill.', metadata={'solution': \"class Solution {\\npublic:\\n    void bfs(int prevcolor,int row,int col,int color,vector<vector<int>>&visited,vector<vector<int>>&image)\\n    {\\n        // it'll ease the work\\n        queue<pair<int,int>> q;\\n        q.push({row,col});\\n        visited[row][col]=1;\\n\\n        while(!q.empty())\\n        {\\n            row = q.front().first;\\n            col = q.front().second;\\n            q.pop();\\n\\n            // if img is of the starting color.\\n            if(image[row][col]==prevcolor) image[row][col]=color;\\n\\n            // up\\n            if(row-1>=0 && !visited[row-1][col] && image[row-1][col]==prevcolor) q.push({row-1,col}),visited[row-1][col]=1, image[row-1][col]=color;\\n\\n            // right\\n            if(col+1<image[0].size() &&  !visited[row][col+1] && image[row][col+1]==prevcolor) q.push({row,col+1}),visited[row][col+1]=1, image[row][col+1]=color;\\n\\n            //down\\n            if(row+1<image.size() && !visited[row+1][col] && image[row+1][col]==prevcolor) q.push({row+1,col}),visited[row+1][col]=1, image[row+1][col]=color;\\n\\n            // left\\n            if(col-1>=0 && !visited[row][col-1] && image[row][col-1]==prevcolor) q.push({row,col-1}),visited[row][col-1]=1, image[row][col-1]=color;\\n        }\\n    }\\n    vector<vector<int>> floodFill(vector<vector<int>>& image, int sr, int sc, int color) {\\n          int prevcolor = image[sr][sc];\\n\\n          // visiting array.\\n          vector<vector<int>> visited(image.size(),vector<int>(image[0].size(),0));\\n\\n          bfs(prevcolor,sr,sc,color,visited,image);\\n\\n          return image;\\n    }\\n};\"})]\n"
     ]
    }
   ],
   "source": [
    "from langchain.document_loaders import ReadTheDocsLoader\n",
    "from langchain.text_splitter import RecursiveCharacterTextSplitter\n",
    "\n",
    "# Text splitter\n",
    "chunk_size = 300\n",
    "chunk_overlap = 50\n",
    "text_splitter = RecursiveCharacterTextSplitter(\n",
    "    separators=[\"\\n\\n\", \"\\n\", \" \", \"\"],\n",
    "    chunk_size=chunk_size,\n",
    "    chunk_overlap=chunk_overlap,\n",
    "    length_function=len,\n",
    ")\n",
    "\n",
    "# Chunk a sample section\n",
    "sample_section = next(iter(dataset))\n",
    "chunks = text_splitter.create_documents(\n",
    "    texts=[sample_section[\"question\"]], \n",
    "    metadatas=[{\"solution\": sample_section[\"solution\"]}])\n",
    "num_chunks = len(chunks)\n",
    "print(f\"{num_chunks} chunks\")\n",
    "print (chunks)\n"
   ]
  },
  {
   "cell_type": "code",
   "execution_count": null,
   "id": "1249f84e-4537-4224-978b-e457d1ec700a",
   "metadata": {
    "scrolled": true
   },
   "outputs": [],
   "source": []
  },
  {
   "cell_type": "code",
   "execution_count": 28,
   "id": "14d9dbb8-e47c-41f5-a196-8e300a1020f6",
   "metadata": {},
   "outputs": [
    {
     "name": "stdout",
     "output_type": "stream",
     "text": [
      "4253 chunks\n",
      "{'solution': \"class Solution {\\npublic:\\n    void bfs(int prevcolor,int row,int col,int color,vector<vector<int>>&visited,vector<vector<int>>&image)\\n    {\\n        // it'll ease the work\\n        queue<pair<int,int>> q;\\n        q.push({row,col});\\n        visited[row][col]=1;\\n\\n        while(!q.empty())\\n        {\\n            row = q.front().first;\\n            col = q.front().second;\\n            q.pop();\\n\\n            // if img is of the starting color.\\n            if(image[row][col]==prevcolor) image[row][col]=color;\\n\\n            // up\\n            if(row-1>=0 && !visited[row-1][col] && image[row-1][col]==prevcolor) q.push({row-1,col}),visited[row-1][col]=1, image[row-1][col]=color;\\n\\n            // right\\n            if(col+1<image[0].size() &&  !visited[row][col+1] && image[row][col+1]==prevcolor) q.push({row,col+1}),visited[row][col+1]=1, image[row][col+1]=color;\\n\\n            //down\\n            if(row+1<image.size() && !visited[row+1][col] && image[row+1][col]==prevcolor) q.push({row+1,col}),visited[row+1][col]=1, image[row+1][col]=color;\\n\\n            // left\\n            if(col-1>=0 && !visited[row][col-1] && image[row][col-1]==prevcolor) q.push({row,col-1}),visited[row][col-1]=1, image[row][col-1]=color;\\n        }\\n    }\\n    vector<vector<int>> floodFill(vector<vector<int>>& image, int sr, int sc, int color) {\\n          int prevcolor = image[sr][sc];\\n\\n          // visiting array.\\n          vector<vector<int>> visited(image.size(),vector<int>(image[0].size(),0));\\n\\n          bfs(prevcolor,sr,sc,color,visited,image);\\n\\n          return image;\\n    }\\n};\", 'question': 'An image is represented by an m x n integer grid image where image[i][j] represents the pixel value of the image.\\nYou are also given three integers sr, sc, and color. You should perform a flood fill on the image starting from the pixel image[sr][sc].\\nTo perform a flood fill, consider the starting pixel, plus any pixels connected 4-directionally to the starting pixel of the same color as the starting pixel, plus any pixels connected 4-directionally to those pixels (also with the same color), and so on. Replace the color of all of the aforementioned pixels with color.\\nReturn the modified image after performing the flood fill.'}\n"
     ]
    }
   ],
   "source": [
    "from functools import partial\n",
    "def chunk_section(section, chunk_size, chunk_overlap):\n",
    "    text_splitter = RecursiveCharacterTextSplitter(\n",
    "        separators=[\"\\n\\n\", \"\\n\", \" \", \"\"],\n",
    "        chunk_size=chunk_size,\n",
    "        chunk_overlap=chunk_overlap,\n",
    "        length_function=len)\n",
    "    chunks = text_splitter.create_documents(\n",
    "        texts=[sample_section[\"question\"]], \n",
    "        metadatas=[{\"solution\": sample_section[\"solution\"]}])\n",
    "    return {\n",
    "        \"question_chunk\": [chunk.page_content for chunk in chunks],\n",
    "        \"solution_chunk\": [chunk.metadata[\"solution\"] for chunk in chunks]\n",
    "    }\n",
    "# Scale chunking\n",
    "\n",
    "chunks_ds = dataset.map(partial(\n",
    "    chunk_section, \n",
    "    chunk_size=300, \n",
    "    chunk_overlap=40))\n",
    "    \n",
    "# Get the number of chunks\n",
    "num_chunks = len(chunks_ds)\n",
    "#chunks_ds[:1][\"question\"] \n",
    "#dataset[:1][\"question\"]\n",
    "#print(f\"{num_chunks} chunks\")\n",
    "#print(chunks_ds[0])\n",
    "splitted = chunks_ds.map(lambda data: {\"question\": data[\"question\"], \"solution\": data[\"solution\"]}, batched=True)\n",
    "# Convert to Pandas DataFrame\n",
    "splitted = splitted.remove_columns(list(set(splitted.column_names) - {\"question\", \"solution\"}))\n",
    "size = len(splitted)\n",
    "print(f\"{size} chunks\")\n",
    "print(splitted[0])\n"
   ]
  },
  {
   "cell_type": "code",
   "execution_count": 30,
   "id": "f6ce1f93-0f83-4813-901b-b547dd037fae",
   "metadata": {},
   "outputs": [],
   "source": [
    "df = pd.DataFrame(splitted)\n"
   ]
  },
  {
   "cell_type": "code",
   "execution_count": 32,
   "id": "c187dfb8-b4d9-431a-b599-307660a72ce1",
   "metadata": {},
   "outputs": [],
   "source": [
    "\n",
    "\n",
    "# Save the DataFrame as a .jsonl file\n",
    "df.to_json('data.jsonl', orient='records', lines=True)"
   ]
  },
  {
   "cell_type": "code",
   "execution_count": null,
   "id": "9b1b0897-1ca6-4a3f-950f-1748671b5d2b",
   "metadata": {},
   "outputs": [],
   "source": []
  }
 ],
 "metadata": {
  "kernelspec": {
   "display_name": "week6_env",
   "language": "python",
   "name": "week6_env"
  },
  "language_info": {
   "codemirror_mode": {
    "name": "ipython",
    "version": 3
   },
   "file_extension": ".py",
   "mimetype": "text/x-python",
   "name": "python",
   "nbconvert_exporter": "python",
   "pygments_lexer": "ipython3",
   "version": "3.11.7"
  }
 },
 "nbformat": 4,
 "nbformat_minor": 5
}
