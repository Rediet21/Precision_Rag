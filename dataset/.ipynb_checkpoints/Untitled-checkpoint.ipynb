{
 "cells": [
  {
   "cell_type": "code",
   "execution_count": 7,
   "id": "ff3df2ee",
   "metadata": {},
   "outputs": [
    {
     "name": "stderr",
     "output_type": "stream",
     "text": [
      "Found cached dataset json (C:/Users/HP/.cache/huggingface/datasets/Rtian___json/Rtian--DebugBench-45decb7d073fc45b/0.0.0/e347ab1c932092252e717ff3f949105a4dd28b27e842dd53157d2f72e276c2e4)\n"
     ]
    },
    {
     "data": {
      "text/plain": [
       "Dataset({\n",
       "    features: ['level', 'bug_explanation', 'constraints', 'buggy_code', 'category', 'release_time', 'language', 'solution', 'question', 'examples', 'slug', 'solution_explanation', 'subtype'],\n",
       "    num_rows: 4253\n",
       "})"
      ]
     },
     "execution_count": 7,
     "metadata": {},
     "output_type": "execute_result"
    }
   ],
   "source": [
    "from datasets import load_dataset\n",
    "import \n",
    "\n",
    "dataset = load_dataset(\n",
    "    \"Rtian/DebugBench\",\n",
    "    split=\"test\"\n",
    ")\n",
    "\n",
    "dataset"
   ]
  },
  {
   "cell_type": "code",
   "execution_count": 8,
   "id": "913002a4",
   "metadata": {},
   "outputs": [
    {
     "data": {
      "text/plain": [
       "{'level': 'easy',\n",
       " 'bug_explanation': '\\nThe bug is statement separation. The last 2 statements inside if conditions are not controlled by the conditions.\\n',\n",
       " 'constraints': 'm == image.length\\nn == image[i].length\\n1 <= m, n <= 50\\n0 <= image[i][j], color < 216\\n0 <= sr < m\\n0 <= sc < n',\n",
       " 'buggy_code': \"\\nclass Solution {\\npublic:\\n    void bfs(int prevcolor,int row,int col,int color,vector<vector<int>>&visited,vector<vector<int>>&image)\\n    {\\n        // it'll ease the work\\n        queue<pair<int,int>> q;\\n        q.push({row,col});\\n        visited[row][col]=1;\\n\\n        while(!q.empty())\\n        {\\n            row = q.front().first;\\n            col = q.front().second;\\n            q.pop();\\n\\n            // if img is of the starting color.\\n            if(image[row][col]==prevcolor) \\n              image[row][col]=color;\\n            \\n            // up\\n            if(row-1>=0 && !visited[row-1][col] && image[row-1][col]==prevcolor) \\n              q.push({row-1,col});\\n              visited[row-1][col]=1;\\n              image[row-1][col]=color;\\n\\n            // right\\n            if(col+1<image[0].size() &&  !visited[row][col+1] && image[row][col+1]==prevcolor) \\n              q.push({row,col+1});\\n              visited[row][col+1]=1;\\n              image[row][col+1]=color;\\n\\n            //down\\n            if(row+1<image.size() && !visited[row+1][col] && image[row+1][col]==prevcolor) \\n              q.push({row+1,col});\\n              visited[row+1][col]=1; \\n              image[row+1][col]=color;\\n\\n            // left\\n            if(col-1>=0 && !visited[row][col-1] && image[row][col-1]==prevcolor) \\n              q.push({row,col-1});\\n              visited[row][col-1]=1;\\n              image[row][col-1]=color;\\n        }\\n    }\\n    vector<vector<int>> floodFill(vector<vector<int>>& image, int sr, int sc, int color) {\\n          int prevcolor = image[sr][sc];\\n\\n          // visiting array.\\n          vector<vector<int>> visited(image.size(),vector<int>(image[0].size(),0));\\n\\n          bfs(prevcolor,sr,sc,color,visited,image);\\n\\n          return image;\\n    }\\n};\\n\",\n",
       " 'category': 'syntax error',\n",
       " 'release_time': 1685971605,\n",
       " 'language': 'cpp',\n",
       " 'solution': \"class Solution {\\npublic:\\n    void bfs(int prevcolor,int row,int col,int color,vector<vector<int>>&visited,vector<vector<int>>&image)\\n    {\\n        // it'll ease the work\\n        queue<pair<int,int>> q;\\n        q.push({row,col});\\n        visited[row][col]=1;\\n\\n        while(!q.empty())\\n        {\\n            row = q.front().first;\\n            col = q.front().second;\\n            q.pop();\\n\\n            // if img is of the starting color.\\n            if(image[row][col]==prevcolor) image[row][col]=color;\\n\\n            // up\\n            if(row-1>=0 && !visited[row-1][col] && image[row-1][col]==prevcolor) q.push({row-1,col}),visited[row-1][col]=1, image[row-1][col]=color;\\n\\n            // right\\n            if(col+1<image[0].size() &&  !visited[row][col+1] && image[row][col+1]==prevcolor) q.push({row,col+1}),visited[row][col+1]=1, image[row][col+1]=color;\\n\\n            //down\\n            if(row+1<image.size() && !visited[row+1][col] && image[row+1][col]==prevcolor) q.push({row+1,col}),visited[row+1][col]=1, image[row+1][col]=color;\\n\\n            // left\\n            if(col-1>=0 && !visited[row][col-1] && image[row][col-1]==prevcolor) q.push({row,col-1}),visited[row][col-1]=1, image[row][col-1]=color;\\n        }\\n    }\\n    vector<vector<int>> floodFill(vector<vector<int>>& image, int sr, int sc, int color) {\\n          int prevcolor = image[sr][sc];\\n\\n          // visiting array.\\n          vector<vector<int>> visited(image.size(),vector<int>(image[0].size(),0));\\n\\n          bfs(prevcolor,sr,sc,color,visited,image);\\n\\n          return image;\\n    }\\n};\",\n",
       " 'question': 'An image is represented by an m x n integer grid image where image[i][j] represents the pixel value of the image.\\nYou are also given three integers sr, sc, and color. You should perform a flood fill on the image starting from the pixel image[sr][sc].\\nTo perform a flood fill, consider the starting pixel, plus any pixels connected 4-directionally to the starting pixel of the same color as the starting pixel, plus any pixels connected 4-directionally to those pixels (also with the same color), and so on. Replace the color of all of the aforementioned pixels with color.\\nReturn the modified image after performing the flood fill.',\n",
       " 'examples': ['Input: image = [[1,1,1],[1,1,0],[1,0,1]], sr = 1, sc = 1, color = 2\\nOutput: [[2,2,2],[2,2,0],[2,0,1]]\\nExplanation: From the center of the image with position (sr, sc) = (1, 1) (i.e., the red pixel), all pixels connected by a path of the same color as the starting pixel (i.e., the blue pixels) are colored with the new color.\\nNote the bottom corner is not colored 2, because it is not 4-directionally connected to the starting pixel.',\n",
       "  'Input: image = [[0,0,0],[0,0,0]], sr = 0, sc = 0, color = 0\\nOutput: [[0,0,0],[0,0,0]]\\nExplanation: The starting pixel is already colored 0, so no changes are made to the image.'],\n",
       " 'slug': 'flood-fill',\n",
       " 'solution_explanation': \"# Algo\\\\n\\\\n1.  Make a visited array of n*m\\\\n2. store the initial color.\\\\n3. do the traversal\\\\n4. Use queue data structure. \\\\n\\\\n\\\\n# Complexity\\\\n- Time complexity: O(N*M)\\\\n<!-- Add your time complexity here, e.g. $$O(n)$$ -->\\\\n\\\\n- Space complexity: O(N*M)\\\\n<!-- Add your space complexity here, e.g. $$O(n)$$ -->\\\\n\\\\n# Code\\\\n```\\\\nclass Solution {\\\\npublic:\\\\n    void bfs(int prevcolor,int row,int col,int color,vector<vector<int>>&visited,vector<vector<int>>&image)\\\\n    {\\\\n        // it\\\\'ll ease the work\\\\n        queue<pair<int,int>> q;\\\\n        q.push({row,col});\\\\n        visited[row][col]=1;\\\\n\\\\n        while(!q.empty())\\\\n        {\\\\n            row = q.front().first;\\\\n            col = q.front().second;\\\\n            q.pop();\\\\n\\\\n            // if img is of the starting color.\\\\n            if(image[row][col]==prevcolor) image[row][col]=color;\\\\n\\\\n            // up\\\\n            if(row-1>=0 && !visited[row-1][col] && image[row-1][col]==prevcolor) q.push({row-1,col}),visited[row-1][col]=1, image[row-1][col]=color;\\\\n\\\\n            // right\\\\n            if(col+1<image[0].size() &&  !visited[row][col+1] && image[row][col+1]==prevcolor) q.push({row,col+1}),visited[row][col+1]=1, image[row][col+1]=color;\\\\n\\\\n            //down\\\\n            if(row+1<image.size() && !visited[row+1][col] && image[row+1][col]==prevcolor) q.push({row+1,col}),visited[row+1][col]=1, image[row+1][col]=color;\\\\n\\\\n            // left\\\\n            if(col-1>=0 && !visited[row][col-1] && image[row][col-1]==prevcolor) q.push({row,col-1}),visited[row][col-1]=1, image[row][col-1]=color;\\\\n        }\\\\n    }\\\\n    vector<vector<int>> floodFill(vector<vector<int>>& image, int sr, int sc, int color) {\\\\n          int prevcolor = image[sr][sc];\\\\n\\\\n          // visiting array.\\\\n          vector<vector<int>> visited(image.size(),vector<int>(image[0].size(),0));\\\\n\\\\n          bfs(prevcolor,sr,sc,color,visited,image);\\\\n\\\\n          return image;\\\\n    }\\\\n};\\\\n```\",\n",
       " 'subtype': 'illegal separation'}"
      ]
     },
     "execution_count": 8,
     "metadata": {},
     "output_type": "execute_result"
    }
   ],
   "source": [
    "dataset [0]"
   ]
  },
  {
   "cell_type": "code",
   "execution_count": 11,
   "id": "0171e91d",
   "metadata": {},
   "outputs": [
    {
     "ename": "ModuleNotFoundError",
     "evalue": "No module named 'pinecone'",
     "output_type": "error",
     "traceback": [
      "\u001b[1;31m---------------------------------------------------------------------------\u001b[0m",
      "\u001b[1;31mModuleNotFoundError\u001b[0m                       Traceback (most recent call last)",
      "Cell \u001b[1;32mIn[11], line 1\u001b[0m\n\u001b[1;32m----> 1\u001b[0m \u001b[38;5;28;01mimport\u001b[39;00m \u001b[38;5;21;01mpinecone\u001b[39;00m\n\u001b[0;32m      5\u001b[0m pinecone\u001b[38;5;241m.\u001b[39minit(\n\u001b[0;32m      6\u001b[0m     api_key\u001b[38;5;241m=\u001b[39mos\u001b[38;5;241m.\u001b[39menviron\u001b[38;5;241m.\u001b[39mget(\u001b[38;5;124m'\u001b[39m\u001b[38;5;124mPINECONE_API_KEY\u001b[39m\u001b[38;5;124m'\u001b[39m) \u001b[38;5;129;01mor\u001b[39;00m \u001b[38;5;124m'\u001b[39m\u001b[38;5;124m3306f52a-a64a-46dd-b81a-0d073fb5a072\u001b[39m\u001b[38;5;124m'\u001b[39m,\n\u001b[0;32m      7\u001b[0m     environment\u001b[38;5;241m=\u001b[39mos\u001b[38;5;241m.\u001b[39menviron\u001b[38;5;241m.\u001b[39mget(\u001b[38;5;124m'\u001b[39m\u001b[38;5;124mPINECONE_ENVIRONMENT\u001b[39m\u001b[38;5;124m'\u001b[39m) \u001b[38;5;129;01mor\u001b[39;00m \u001b[38;5;124m'\u001b[39m\u001b[38;5;124mgcp-starter\u001b[39m\u001b[38;5;124m'\u001b[39m\n\u001b[0;32m      8\u001b[0m )\n",
      "\u001b[1;31mModuleNotFoundError\u001b[0m: No module named 'pinecone'"
     ]
    }
   ],
   "source": [
    "import pinecone\n",
    "\n",
    "\n",
    "\n",
    "pinecone.init(\n",
    "    api_key=os.environ.get('PINECONE_API_KEY') or '3306f52a-a64a-46dd-b81a-0d073fb5a072',\n",
    "    environment=os.environ.get('PINECONE_ENVIRONMENT') or 'gcp-starter'\n",
    ")"
   ]
  },
  {
   "cell_type": "code",
   "execution_count": null,
   "id": "7142fb65",
   "metadata": {},
   "outputs": [],
   "source": []
  }
 ],
 "metadata": {
  "kernelspec": {
   "display_name": "Python 3 (ipykernel)",
   "language": "python",
   "name": "python3"
  },
  "language_info": {
   "codemirror_mode": {
    "name": "ipython",
    "version": 3
   },
   "file_extension": ".py",
   "mimetype": "text/x-python",
   "name": "python",
   "nbconvert_exporter": "python",
   "pygments_lexer": "ipython3",
   "version": "3.11.5"
  }
 },
 "nbformat": 4,
 "nbformat_minor": 5
}
