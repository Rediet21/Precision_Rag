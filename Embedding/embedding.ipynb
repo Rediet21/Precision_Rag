{
 "cells": [
  {
   "cell_type": "code",
   "execution_count": 1,
   "id": "c5ddcbec-fca1-4739-aa7d-27c05ef623e0",
   "metadata": {},
   "outputs": [],
   "source": [
    "from langchain.embeddings import OpenAIEmbeddings\n",
    "from langchain.embeddings.huggingface import HuggingFaceEmbeddings\n",
    "import numpy as np\n",
    "\n",
    "#from ray.data import ActorPoolStrategy\n",
    "\n",
    "class EmbedChunks:\n",
    "    def __init__(self, model_name):\n",
    "        if model_name == \"text-embedding-ada-002\":\n",
    "            self.embedding_model = OpenAIEmbeddings(\n",
    "                model=model_name,\n",
    "                openai_api_base=os.environ[\"OPENAI_API_BASE\"],\n",
    "                openai_api_key=os.environ[\"OPENAI_API_KEY\"])\n",
    "        else:\n",
    "            self.embedding_model = HuggingFaceEmbeddings(\n",
    "                model_name=model_name,\n",
    "                model_kwargs={\"device\": \"cuda\"},\n",
    "                encode_kwargs={\"device\": \"cuda\", \"batch_size\": 100})\n",
    "\n",
    "    def __call__(self, batch):\n",
    "        embeddings = self.embedding_model.embed_documents(batch[\"text\"])\n",
    "        return {\"question\": batch[\"question\"], \"solution\": batch[\"solution\"], \"embeddings\": \n",
    "embeddings}"
   ]
  },
  {
   "cell_type": "code",
   "execution_count": 8,
   "id": "f7720bdf-46c0-48f0-99e9-b5df857dc806",
   "metadata": {},
   "outputs": [
    {
     "data": {
      "text/plain": [
       "(4253, 1536)"
      ]
     },
     "execution_count": 8,
     "metadata": {},
     "output_type": "execute_result"
    }
   ],
   "source": [
    "from dotenv import load_dotenv\n",
    "import os\n",
    "load_dotenv()\n",
    "\n",
    "openai_api_key = os.getenv(\"OPENAI_API_KEY\")\n",
    "from langchain.embeddings.openai import OpenAIEmbeddings\n",
    "import pandas as pd\n",
    "data_path = \"../dataset/data.jsonl\"\n",
    "\n",
    "df = pd.read_json(data_path, lines=True)\n",
    "embed_model = OpenAIEmbeddings(model=\"text-embedding-ada-002\",openai_api_key=openai_api_key)\n",
    "texts = df['question'] + '' + df['solution']\n",
    "\n",
    "\n",
    "\n",
    "\n",
    "embeded_chunk = embed_model.embed_documents(texts)\n",
    "len(embeded_chunk), len(embeded_chunk[0])\n",
    "#for i, embeded_chunk in enumerate(embeded_chunk):\n",
    "    #print(f\"Embedded representation for chunk {i+1}:\")\n",
    "    #print(embeded_chunk)\n",
    "\n"
   ]
  },
  {
   "cell_type": "code",
   "execution_count": 11,
   "id": "f7cf61ee-95b5-407a-91c4-59cf585679df",
   "metadata": {},
   "outputs": [
    {
     "ename": "AttributeError",
     "evalue": "'list' object has no attribute 'map_batches'",
     "output_type": "error",
     "traceback": [
      "\u001b[1;31m---------------------------------------------------------------------------\u001b[0m",
      "\u001b[1;31mAttributeError\u001b[0m                            Traceback (most recent call last)",
      "Cell \u001b[1;32mIn[11], line 15\u001b[0m\n\u001b[0;32m     12\u001b[0m         \u001b[38;5;66;03m# Return an empty dictionary\u001b[39;00m\n\u001b[0;32m     13\u001b[0m         \u001b[38;5;28;01mreturn\u001b[39;00m {}\n\u001b[1;32m---> 15\u001b[0m embeded_chunk\u001b[38;5;241m.\u001b[39mmap_batches(\n\u001b[0;32m     16\u001b[0m     StoreResults,\n\u001b[0;32m     17\u001b[0m     batch_size\u001b[38;5;241m=\u001b[39m\u001b[38;5;241m128\u001b[39m,\n\u001b[0;32m     18\u001b[0m     num_cpus\u001b[38;5;241m=\u001b[39m\u001b[38;5;241m1\u001b[39m,\n\u001b[0;32m     19\u001b[0m     compute\u001b[38;5;241m=\u001b[39mActorPoolStrategy(size\u001b[38;5;241m=\u001b[39m\u001b[38;5;241m28\u001b[39m),\n\u001b[0;32m     20\u001b[0m )\u001b[38;5;241m.\u001b[39mcount()\n",
      "\u001b[1;31mAttributeError\u001b[0m: 'list' object has no attribute 'map_batches'"
     ]
    }
   ],
   "source": [
    "class StoreResults:\n",
    "    def __call__(self, batch):\n",
    "        # Establish a connection to the database using the DB_CONNECTION_STRING from the environment variables\n",
    "        with psycopg.connect(os.environ[\"DB_CONNECTION_STRING\"]) as conn:\n",
    "            # Register the vector type in the database (assuming it's a custom vector type)\n",
    "            register_vector(conn)\n",
    "            with conn.cursor() as cur:\n",
    "                # Iterate over each element in the batch and insert the data into the database\n",
    "                for text, source, embedding in zip(batch[\"text\"], batch[\"source\"], batch[\"embeddings\"]):\n",
    "                    cur.execute(\"INSERT INTO document (text, source, embedding) VALUES (%s, %s, %s)\",\n",
    "                                (text, source, embedding,))\n",
    "        # Return an empty dictionary\n",
    "        return {}\n",
    "        \n",
    "embeded_chunk.map_batches(\n",
    "    StoreResults,\n",
    "    batch_size=128,\n",
    "    num_cpus=1,\n",
    "    compute=ActorPoolStrategy(size=28),\n",
    ").count()\n"
   ]
  },
  {
   "cell_type": "code",
   "execution_count": 12,
   "id": "2d9be769-1c5d-419a-bd2b-5022fab55d37",
   "metadata": {},
   "outputs": [
    {
     "name": "stdout",
     "output_type": "stream",
     "text": [
      "<class 'list'>\n"
     ]
    }
   ],
   "source": [
    "print(type(embeded_chunk))"
   ]
  },
  {
   "cell_type": "code",
   "execution_count": null,
   "id": "dca49cf9-3c22-4315-b1e9-1e3ee0231473",
   "metadata": {},
   "outputs": [],
   "source": []
  }
 ],
 "metadata": {
  "kernelspec": {
   "display_name": "Python 3 (ipykernel)",
   "language": "python",
   "name": "python3"
  },
  "language_info": {
   "codemirror_mode": {
    "name": "ipython",
    "version": 3
   },
   "file_extension": ".py",
   "mimetype": "text/x-python",
   "name": "python",
   "nbconvert_exporter": "python",
   "pygments_lexer": "ipython3",
   "version": "3.11.7"
  }
 },
 "nbformat": 4,
 "nbformat_minor": 5
}
