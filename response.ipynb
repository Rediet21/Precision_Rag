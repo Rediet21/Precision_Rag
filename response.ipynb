{
 "cells": [
  {
   "cell_type": "code",
   "execution_count": null,
   "id": "d1659270-a798-4246-9e8a-70e576535909",
   "metadata": {},
   "outputs": [],
   "source": [
    "def prepare_response(chat_completion, stream):\n",
    "    if stream:\n",
    "        return response_stream(chat_completion)\n",
    "    else:\n",
    "        return chat_completion.choices[0].message.content\n",
    "\n",
    "\n",
    "def generate_response(\n",
    "    llm,\n",
    "    max_tokens=None,\n",
    "    temperature=0.0,\n",
    "    stream=False,\n",
    "    system_content=\"\",\n",
    "    assistant_content=\"\",\n",
    "    user_content=\"\",\n",
    "    max_retries=1,\n",
    "    retry_interval=60,\n",
    "):\n",
    "    \"\"\"Generate response from an LLM.\"\"\"\n",
    "    retry_count = 0\n",
    "    client = get_client(llm=llm)\n",
    "    messages = [\n",
    "        {\"role\": role, \"content\": content}\n",
    "        for role, content in [\n",
    "            (\"system\", system_content),\n",
    "            (\"assistant\", assistant_content),\n",
    "            (\"user\", user_content),\n",
    "        ]\n",
    "        if content\n",
    "    ]\n",
    "    while retry_count <= max_retries:\n",
    "        try:\n",
    "            chat_completion = client.chat.completions.create(\n",
    "                model=llm,\n",
    "                max_tokens=max_tokens,\n",
    "                temperature=temperature,\n",
    "                stream=stream,\n",
    "                messages=messages,\n",
    "            )\n",
    "            return prepare_response(chat_completion, stream=stream)\n",
    "\n",
    "        except Exception as e:\n",
    "            print(f\"Exception: {e}\")\n",
    "            time.sleep(retry_interval)  # default is per-minute rate limits\n",
    "            retry_count += 1\n",
    "    return \"\""
   ]
  }
 ],
 "metadata": {
  "kernelspec": {
   "display_name": "Python 3 (ipykernel)",
   "language": "python",
   "name": "python3"
  },
  "language_info": {
   "codemirror_mode": {
    "name": "ipython",
    "version": 3
   },
   "file_extension": ".py",
   "mimetype": "text/x-python",
   "name": "python",
   "nbconvert_exporter": "python",
   "pygments_lexer": "ipython3",
   "version": "3.11.7"
  }
 },
 "nbformat": 4,
 "nbformat_minor": 5
}
